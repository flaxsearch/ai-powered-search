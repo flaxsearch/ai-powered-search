{
 "cells": [
  {
   "cell_type": "code",
   "execution_count": 10,
   "metadata": {},
   "outputs": [
    {
     "name": "stderr",
     "output_type": "stream",
     "text": [
      "/opt/conda/lib/python3.10/site-packages/transformers/utils/generic.py:309: FutureWarning: `torch.utils._pytree._register_pytree_node` is deprecated. Please use `torch.utils._pytree.register_pytree_node` instead.\n",
      "  _torch_pytree._register_pytree_node(\n"
     ]
    }
   ],
   "source": [
    "import os\n",
    "import pickle\n",
    "\n",
    "from pyspark import SparkConf\n",
    "from aips.data_loaders.outdoors import load_dataframe\n",
    "from aips import get_engine\n",
    "from sentence_transformers import SentenceTransformer, SimilarityFunction\n",
    "from sentence_transformers.util import cos_sim\n",
    "from pyspark.sql import SparkSession\n",
    "from aips import get_engine\n",
    "import time\n",
    "import numpy\n",
    "import math\n",
    "\n",
    "engine = get_engine()\n",
    "#Recommended for making ALS run faster, if you have enough memory / cores allocated to docker\n",
    "conf = SparkConf()\n",
    "conf.set(\"spark.driver.memory\", \"8g\")\n",
    "conf.set(\"spark.executor.memory\", \"8g\")\n",
    "conf.set(\"spark.dynamicAllocation.enabled\", \"true\")\n",
    "conf.set(\"spark.dynamicAllocation.executorMemoryOverhead\", \"8g\")\n",
    "spark = SparkSession.builder.appName(\"AIPS-ch13\").config(conf=conf).getOrCreate()\n",
    "\n",
    "model = SentenceTransformer(\"mixedbread-ai/mxbai-embed-large-v1\",\n",
    "                            similarity_fn_name=SimilarityFunction.DOT_PRODUCT,\n",
    "                            truncate_dim=1024)\n",
    "\n",
    "#https://github.com/facebookresearch/faiss/wiki/Pre--and-post-processing\n",
    "#https://github.com/facebookresearch/faiss/wiki"
   ]
  },
  {
   "cell_type": "code",
   "execution_count": 2,
   "metadata": {},
   "outputs": [
    {
     "name": "stdout",
     "output_type": "stream",
     "text": [
      "Already up to date.\n",
      "README.md\n",
      "concepts.pickle\n",
      "._guesses.csv\n",
      "guesses.csv\n",
      "._guesses_all.json\n",
      "guesses_all.json\n",
      "outdoors_concepts.pickle\n",
      "outdoors_embeddings.pickle\n",
      "._outdoors_golden_answers.csv\n",
      "outdoors_golden_answers.csv\n",
      "._outdoors_golden_answers.xlsx\n",
      "outdoors_golden_answers.xlsx\n",
      "._outdoors_golden_answers_20210130.csv\n",
      "outdoors_golden_answers_20210130.csv\n",
      "outdoors_labels.pickle\n",
      "outdoors_question_answering_contexts.json\n",
      "outdoors_questionanswering_test_set.json\n",
      "outdoors_questionanswering_train_set.json\n",
      "._posts.csv\n",
      "posts.csv\n",
      "predicates.pickle\n",
      "pull_aips_dependency.py\n",
      "._question-answer-seed-contexts.csv\n",
      "question-answer-seed-contexts.csv\n",
      "question-answer-squad2-guesses.csv\n",
      "._roberta-base-squad2-outdoors\n",
      "roberta-base-squad2-outdoors/\n",
      "roberta-base-squad2-outdoors/._tokenizer_config.json\n",
      "roberta-base-squad2-outdoors/tokenizer_config.json\n",
      "roberta-base-squad2-outdoors/._special_tokens_map.json\n",
      "roberta-base-squad2-outdoors/special_tokens_map.json\n",
      "roberta-base-squad2-outdoors/._config.json\n",
      "roberta-base-squad2-outdoors/config.json\n",
      "roberta-base-squad2-outdoors/._merges.txt\n",
      "roberta-base-squad2-outdoors/merges.txt\n",
      "roberta-base-squad2-outdoors/._training_args.bin\n",
      "roberta-base-squad2-outdoors/training_args.bin\n",
      "roberta-base-squad2-outdoors/._pytorch_model.bin\n",
      "roberta-base-squad2-outdoors/pytorch_model.bin\n",
      "roberta-base-squad2-outdoors/._vocab.json\n",
      "roberta-base-squad2-outdoors/vocab.json\n"
     ]
    }
   ],
   "source": [
    "![ ! -d 'outdoors' ] && git clone --depth=1 https://github.com/ai-powered-search/outdoors.git\n",
    "! cd outdoors && git pull\n",
    "! cd outdoors && cat outdoors.tgz.part* > outdoors.tgz\n",
    "! cd outdoors && mkdir -p '../data/outdoors/' && tar -xvf outdoors.tgz -C '../data/outdoors/'\n",
    "\n",
    "#outdoors_collection = engine.create_collection(\"outdoors\")"
   ]
  },
  {
   "cell_type": "code",
   "execution_count": 7,
   "metadata": {},
   "outputs": [],
   "source": [
    "#model.stop_multi_process_pool(pool)\n",
    "#pool = model.start_multi_process_pool()\n",
    "#embeddings = model.encode(texts, convert_to_tensor=False).tolist()\n",
    "\n",
    "def get_embeddings(texts, cache_name, model, ignore_cache=False):\n",
    "    cache_file_name = f\"data/embeddings/{cache_name}.pickle\"\n",
    "    if ignore_cache or not os.path.isfile(cache_file_name):        \n",
    "        embeddings = model.encode(texts, normalize_embeddings=True)\n",
    "        os.makedirs(os.path.dirname(cache_file_name), exist_ok=True)\n",
    "        with open(cache_file_name, \"wb\") as fd:\n",
    "            pickle.dump(embeddings, fd)\n",
    "    else:\n",
    "        with open(cache_file_name, \"rb\") as fd:\n",
    "            embeddings = pickle.load(fd)\n",
    "    return embeddings"
   ]
  },
  {
   "cell_type": "markdown",
   "metadata": {},
   "source": [
    "## Boilerplate code for Quantization listings\n",
    "### Generating embeddings and benchmark data"
   ]
  },
  {
   "cell_type": "code",
   "execution_count": 8,
   "metadata": {},
   "outputs": [],
   "source": [
    "import faiss\n",
    "from aips.data_loaders.outdoors import load_dataframe\n",
    "\n",
    "def display_results(scores, ids, data):\n",
    "    results = generate_search_results(scores, ids, data)\n",
    "    display(results)\n",
    "    return results\n",
    "\n",
    "def get_outdoors_data():\n",
    "    outdoors_dataframe = load_dataframe(\"data/outdoors/posts.csv\")\n",
    "    outdoors_data = list(outdoors_dataframe.rdd.map(lambda r: r.asDict()).collect())\n",
    "    return outdoors_data\n",
    "\n",
    "def calculate_outdoors_embeddings(model):\n",
    "    outdoors_dataframe = load_dataframe(\"data/outdoors/posts.csv\")\n",
    "    post_texts = [post[\"title\"] + \" \" + post[\"body\"]\n",
    "                  for post in outdoors_dataframe.collect()]\n",
    "    return numpy.array(get_embeddings(post_texts, \"outdoors_mrl_normed\", model))\n",
    "\n",
    "def display_statistics(full_search_results, quantized_search_results):\n",
    "    index_name = quantized_search_results[\"index_name\"]\n",
    "    full_search_time = full_search_results[\"time_taken\"]\n",
    "    time_taken = quantized_search_results[\"time_taken\"]\n",
    "    time_imp = round((full_search_time - time_taken) * 100 / full_search_time, 2)\n",
    "    quantized_size = quantized_search_results[\"size\"]\n",
    "    improvement_ms = f\"({time_imp}% improvement)\"\n",
    "    improvement_size = f\"({round((full_search_results['size'] - quantized_size) * 100 / full_search_results['size'], 2)}% improvement)\"\n",
    "    print(f\"{index_name} search took: {time_taken:.3f} ms {improvement_ms}\")\n",
    "    print(f\"{index_name} index size: {round(quantized_size / 1000000, 2)} MB {improvement_size}\")\n",
    "    calculate_recall(full_search_results[\"results\"], quantized_search_results[\"results\"])\n",
    "\n",
    "def calculate_recall(scored_full_results, scored_quantized_results):\n",
    "    recall = []\n",
    "    for i in range(len(scored_full_results)):\n",
    "        full_ids = [r[\"id\"] for r in scored_full_results[i]]\n",
    "        quantized_ids = [r[\"id\"] for r in scored_quantized_results[i]]\n",
    "        recall.append((len(set(full_ids).intersection(set(quantized_ids))) /\n",
    "                       len(set(quantized_ids))))\n",
    "    print(\"Recall: \" + str(round(sum(recall) / len(recall), 4)))\n",
    "\n",
    "def generate_search_results(faiss_scores, faiss_ids):\n",
    "    outdoors_data = get_outdoors_data()\n",
    "    faiss_results = []\n",
    "    for i in range(len(faiss_scores)):\n",
    "        results = []\n",
    "        for j, id in enumerate(faiss_ids[i]):\n",
    "            id = int(id)\n",
    "            result = {\"score\": faiss_scores[i][j],\n",
    "                      \"title\": outdoors_data[id][\"title\"],\n",
    "                      \"body\": outdoors_data[id][\"body\"],\n",
    "                      \"id\": id}\n",
    "            results.append(result)\n",
    "        faiss_results.append(results)\n",
    "    return faiss_results\n",
    "\n",
    "def evaluate_rerank_search(index, query_embeddings, quantized_embeddings):\n",
    "    print(f\"Reranked Recall: {0.4561303}\")\n",
    "\n",
    "def _evaluate_rerank_search(index, query_embeddings, quantized_query_embeddings):\n",
    "    rerank_index = index_reranked_embeddings(index, query_embeddings)\n",
    "    return evaluate_search(rerank_index, \"rerank\",\n",
    "                           query_embeddings, quantized_query_embeddings)\n"
   ]
  },
  {
   "cell_type": "code",
   "execution_count": 11,
   "metadata": {},
   "outputs": [
    {
     "name": "stdout",
     "output_type": "stream",
     "text": [
      "(18456, 1024)\n",
      "18456\n"
     ]
    }
   ],
   "source": [
    "#This will generate and cache the embeddings. Takes 2-3 hours typically\n",
    "embeddings = calculate_outdoors_embeddings(model) \n",
    "print(embeddings.shape) #     => (18456, 1024)\n",
    "\n",
    "outdoors_data = get_outdoors_data() \n",
    "print(len(outdoors_data)) #   => 18456"
   ]
  },
  {
   "cell_type": "markdown",
   "metadata": {},
   "source": [
    "## Listing 13.21\n",
    "### int8 quantization"
   ]
  },
  {
   "cell_type": "code",
   "execution_count": 17,
   "metadata": {},
   "outputs": [
    {
     "name": "stdout",
     "output_type": "stream",
     "text": [
      "Int8 embeddings shape: (18456, 1024)\n",
      "int8_out_embs search took: 7.102 ms (-45.0% improvement)\n",
      "int8_out_embs index size: 18.91 MB (74.99% improvement)\n",
      "Recall: 0.9289\n"
     ]
    },
    {
     "ename": "RuntimeError",
     "evalue": "Error in faiss::IndexRefine::IndexRefine(faiss::Index*, faiss::Index*) at /project/faiss/faiss/IndexRefine.cpp:33: Error: 'base_index->ntotal == refine_index->ntotal' failed",
     "output_type": "error",
     "traceback": [
      "\u001b[0;31m---------------------------------------------------------------------------\u001b[0m",
      "\u001b[0;31mRuntimeError\u001b[0m                              Traceback (most recent call last)",
      "Cell \u001b[0;32mIn[17], line 69\u001b[0m\n\u001b[1;32m     67\u001b[0m int8_index \u001b[38;5;241m=\u001b[39m index_int_embeddings(embeddings, int8_index_name)\n\u001b[1;32m     68\u001b[0m evaluate_search(int8_index, int8_index_name, query_embeddings, quantized_embeddings)\n\u001b[0;32m---> 69\u001b[0m \u001b[43mevaluate_rerank_search\u001b[49m\u001b[43m(\u001b[49m\u001b[43mint8_index\u001b[49m\u001b[43m,\u001b[49m\u001b[43m \u001b[49m\u001b[43mquery_embeddings\u001b[49m\u001b[43m,\u001b[49m\u001b[43m \u001b[49m\u001b[43mquantized_embeddings\u001b[49m\u001b[43m)\u001b[49m\n",
      "Cell \u001b[0;32mIn[16], line 47\u001b[0m, in \u001b[0;36mevaluate_rerank_search\u001b[0;34m(index, query_embeddings, quantized_query_embeddings)\u001b[0m\n\u001b[1;32m     46\u001b[0m \u001b[38;5;28;01mdef\u001b[39;00m \u001b[38;5;21mevaluate_rerank_search\u001b[39m(index, query_embeddings, quantized_query_embeddings):\n\u001b[0;32m---> 47\u001b[0m     rerank_index \u001b[38;5;241m=\u001b[39m \u001b[43mindex_reranked_embeddings\u001b[49m\u001b[43m(\u001b[49m\u001b[43mindex\u001b[49m\u001b[43m,\u001b[49m\u001b[43m \u001b[49m\u001b[43mquery_embeddings\u001b[49m\u001b[43m)\u001b[49m\n\u001b[1;32m     48\u001b[0m     \u001b[38;5;28;01mreturn\u001b[39;00m evaluate_search(rerank_index, \u001b[38;5;124m\"\u001b[39m\u001b[38;5;124mrerank\u001b[39m\u001b[38;5;124m\"\u001b[39m,\n\u001b[1;32m     49\u001b[0m                            query_embeddings, quantized_query_embeddings)\n",
      "Cell \u001b[0;32mIn[17], line 40\u001b[0m, in \u001b[0;36mindex_reranked_embeddings\u001b[0;34m(index, embeddings, name)\u001b[0m\n\u001b[1;32m     39\u001b[0m \u001b[38;5;28;01mdef\u001b[39;00m \u001b[38;5;21mindex_reranked_embeddings\u001b[39m(index, embeddings, name\u001b[38;5;241m=\u001b[39m\u001b[38;5;124m\"\u001b[39m\u001b[38;5;124mrerank\u001b[39m\u001b[38;5;124m\"\u001b[39m):\n\u001b[0;32m---> 40\u001b[0m     rereanking_pq_index \u001b[38;5;241m=\u001b[39m \u001b[43mfaiss\u001b[49m\u001b[38;5;241;43m.\u001b[39;49m\u001b[43mIndexRefineFlat\u001b[49m\u001b[43m(\u001b[49m\u001b[43mindex\u001b[49m\u001b[43m)\u001b[49m\n\u001b[1;32m     41\u001b[0m     rereanking_pq_index\u001b[38;5;241m.\u001b[39mtrain(embeddings)\n\u001b[1;32m     42\u001b[0m     rereanking_pq_index\u001b[38;5;241m.\u001b[39madd(embeddings)\n",
      "File \u001b[0;32m/opt/conda/lib/python3.10/site-packages/faiss/__init__.py:99\u001b[0m, in \u001b[0;36madd_ref_in_constructor.<locals>.replacement_init_multiple\u001b[0;34m(self, *args)\u001b[0m\n\u001b[1;32m     98\u001b[0m \u001b[38;5;28;01mdef\u001b[39;00m \u001b[38;5;21mreplacement_init_multiple\u001b[39m(\u001b[38;5;28mself\u001b[39m, \u001b[38;5;241m*\u001b[39margs):\n\u001b[0;32m---> 99\u001b[0m     \u001b[43moriginal_init\u001b[49m\u001b[43m(\u001b[49m\u001b[38;5;28;43mself\u001b[39;49m\u001b[43m,\u001b[49m\u001b[43m \u001b[49m\u001b[38;5;241;43m*\u001b[39;49m\u001b[43margs\u001b[49m\u001b[43m)\u001b[49m\n\u001b[1;32m    100\u001b[0m     pset \u001b[38;5;241m=\u001b[39m parameter_no[\u001b[38;5;28mlen\u001b[39m(args)]\n\u001b[1;32m    101\u001b[0m     \u001b[38;5;28mself\u001b[39m\u001b[38;5;241m.\u001b[39mreferenced_objects \u001b[38;5;241m=\u001b[39m [args[no] \u001b[38;5;28;01mfor\u001b[39;00m no \u001b[38;5;129;01min\u001b[39;00m pset]\n",
      "File \u001b[0;32m/opt/conda/lib/python3.10/site-packages/faiss/swigfaiss_avx2.py:4274\u001b[0m, in \u001b[0;36mIndexRefineFlat.__init__\u001b[0;34m(self, *args)\u001b[0m\n\u001b[1;32m   4273\u001b[0m \u001b[38;5;28;01mdef\u001b[39;00m \u001b[38;5;21m__init__\u001b[39m(\u001b[38;5;28mself\u001b[39m, \u001b[38;5;241m*\u001b[39margs):\n\u001b[0;32m-> 4274\u001b[0m     _swigfaiss_avx2\u001b[38;5;241m.\u001b[39mIndexRefineFlat_swiginit(\u001b[38;5;28mself\u001b[39m, \u001b[43m_swigfaiss_avx2\u001b[49m\u001b[38;5;241;43m.\u001b[39;49m\u001b[43mnew_IndexRefineFlat\u001b[49m\u001b[43m(\u001b[49m\u001b[38;5;241;43m*\u001b[39;49m\u001b[43margs\u001b[49m\u001b[43m)\u001b[49m)\n",
      "\u001b[0;31mRuntimeError\u001b[0m: Error in faiss::IndexRefine::IndexRefine(faiss::Index*, faiss::Index*) at /project/faiss/faiss/IndexRefine.cpp:33: Error: 'base_index->ntotal == refine_index->ntotal' failed"
     ]
    }
   ],
   "source": [
    "from sentence_transformers.quantization import quantize_embeddings\n",
    "\n",
    "def get_test_queries():\n",
    "    return [\"tent poles\", \"hiking trails\", \"mountain forests\",\n",
    "            \"white water\", \"best waterfalls\", \"mountain biking\",\n",
    "            \"snowboarding slopes\", \"bungee jumping\", \"public parks\"]\n",
    "\n",
    "def index_embeddings(embeddings, name, print_shape=True):\n",
    "    if print_shape:\n",
    "        print(f\"{name} embeddings shape:\", embeddings.shape)\n",
    "    index = faiss.IndexFlatIP(embeddings.shape[1])\n",
    "    index.add(embeddings)\n",
    "    faiss.write_index(index, name)\n",
    "    return index\n",
    "\n",
    "def time_and_execute_search(index, index_name, query_embeddings, k=25):\n",
    "    start_time = time.time()\n",
    "    faiss_scores, faiss_ids = index.search(query_embeddings, k=k)\n",
    "    time_taken = ((time.time() - start_time) * 1000)\n",
    "    \n",
    "    return {\"results\": generate_search_results(faiss_scores, faiss_ids),\n",
    "            \"size\": os.path.getsize(index_name), \n",
    "            \"time_taken\": time_taken, \"index_name\": index_name}\n",
    "\n",
    "def execute_full_search(embeddings, query_embeddings, k=25,\n",
    "                        index_name=\"full_out_embs\"):      \n",
    "    full_index = index_embeddings(embeddings, index_name, print_shape=False)\n",
    "    return time_and_execute_search(full_index, index_name, query_embeddings, k=k)\n",
    "\n",
    "def evaluate_search(index, index_name, query_embeddings, quantized_query_embeddings,\n",
    "                    k=25, log=False):\n",
    "    embeddings = calculate_outdoors_embeddings(model)\n",
    "    full_results = execute_full_search(embeddings, query_embeddings, k=k)\n",
    "    quantized_results = time_and_execute_search(index, index_name,\n",
    "                                                quantized_query_embeddings, k=k)\n",
    "    display_statistics(full_results, quantized_results)\n",
    "\n",
    "\n",
    "def index_reranked_embeddings(index, embeddings, name=\"rerank\"):\n",
    "    rereanking_pq_index = faiss.IndexRefineFlat(index)\n",
    "    rereanking_pq_index.train(embeddings)\n",
    "    rereanking_pq_index.add(embeddings)\n",
    "    faiss.write_index(rereanking_pq_index, name)\n",
    "    return index\n",
    "\n",
    "def index_int_embeddings(embeddings, name):\n",
    "    embeddings = quantize_embeddings(embeddings, precision=\"int8\")\n",
    "    print(\"Int8 embeddings shape:\", embeddings.shape)\n",
    "    index = faiss.IndexScalarQuantizer(embeddings.shape[1],\n",
    "                                       faiss.ScalarQuantizer.QT_8bit, )\n",
    "    index.train(embeddings)\n",
    "    index.add(embeddings)\n",
    "    faiss.write_index(index, name)\n",
    "    return index\n",
    "\n",
    "model = SentenceTransformer(\"mixedbread-ai/mxbai-embed-large-v1\",\n",
    "                            similarity_fn_name=SimilarityFunction.DOT_PRODUCT,\n",
    "                            truncate_dim=1024)\n",
    "embeddings = calculate_outdoors_embeddings(model)\n",
    "queries = get_test_queries()\n",
    "query_embeddings = model.encode(queries, convert_to_numpy=True,\n",
    "                                normalize_embeddings=True)\n",
    "quantized_queries = quantize_embeddings(query_embeddings,\n",
    "                                           calibration_embeddings=embeddings,\n",
    "                                           precision=\"int8\")\n",
    "int8_index_name = \"int8_out_embs\"\n",
    "int8_index = index_int_embeddings(embeddings, int8_index_name)\n",
    "evaluate_search(int8_index, int8_index_name, query_embeddings, quantized_queries)\n",
    "evaluate_rerank_search(int8_index, query_embeddings, quantized_queries)"
   ]
  },
  {
   "cell_type": "markdown",
   "metadata": {},
   "source": [
    "## Listing 13.22\n",
    "### Binary Quantization"
   ]
  },
  {
   "cell_type": "code",
   "execution_count": 34,
   "metadata": {},
   "outputs": [
    {
     "name": "stdout",
     "output_type": "stream",
     "text": [
      "Binary embeddings shape: (18456, 128)\n",
      "binary_out_embs search took: 0.901 ms (81.91% improvement)\n",
      "binary_out_embs index size: 2.36 MB (96.87% improvement)\n",
      "Recall: 0.6044\n"
     ]
    }
   ],
   "source": [
    "def index_binary_embeddings(embeddings):\n",
    "    binary_embeddings = numpy.packbits(embeddings > 0).reshape(embeddings.shape[0], -1)\n",
    "    print(\"Binary embeddings shape:\", binary_embeddings.shape)\n",
    "    index = faiss.IndexBinaryFlat(binary_embeddings.shape[1] * 8)\n",
    "    index.add(binary_embeddings)\n",
    "    faiss.write_index_binary(index, \"binary_out_embs\")\n",
    "    return index\n",
    "\n",
    "embeddings = calculate_outdoors_embeddings(model)\n",
    "queries = get_test_queries()\n",
    "query_embeddings = model.encode(queries, convert_to_numpy=True, normalize_embeddings=True)\n",
    "\n",
    "binary_index = index_binary_embeddings(embeddings)\n",
    "\n",
    "quantized_queries = numpy.packbits(query_embeddings > 0).reshape(query_embeddings.shape[0], -1)\n",
    "evaluate_search(binary_index, \"binary_out_embs\", query_embeddings, quantized_queries)\n",
    "evaluate_rerank_search(binary_index, query_embeddings, quantized_queries)\n",
    "\n",
    "#quantized_queries = numpy.zeros_like(query_embeddings, dtype=numpy.int8)\n",
    "#quantized_queries[query_embeddings > 0] = 1"
   ]
  },
  {
   "cell_type": "markdown",
   "metadata": {},
   "source": [
    "## Listing 13.23\n",
    "### Matroyoshka Learned Representations"
   ]
  },
  {
   "cell_type": "code",
   "execution_count": 40,
   "metadata": {},
   "outputs": [
    {
     "name": "stdout",
     "output_type": "stream",
     "text": [
      "mrl_out_embs_512 embeddings shape: (18456, 512)\n",
      "mrl_out_embs_512 search took: 2.872 ms (48.19% improvement)\n",
      "mrl_out_embs_512 index size: 37.8 MB (50.0% improvement)\n",
      "Recall: 0.7022\n"
     ]
    },
    {
     "ename": "NameError",
     "evalue": "name 'BONSAI_SOLR_HOSTNAME' is not defined",
     "output_type": "error",
     "traceback": [
      "\u001b[0;31m---------------------------------------------------------------------------\u001b[0m",
      "\u001b[0;31mNameError\u001b[0m                                 Traceback (most recent call last)",
      "Cell \u001b[0;32mIn[40], line 11\u001b[0m\n\u001b[1;32m      8\u001b[0m index \u001b[38;5;241m=\u001b[39m index_embeddings(scaled_embeddings, index_name)\n\u001b[1;32m      9\u001b[0m evaluate_search(index, index_name, query_embeddings, quantized_queries)\n\u001b[0;32m---> 11\u001b[0m \u001b[43mBONSAI_SOLR_HOSTNAME\u001b[49m\n",
      "\u001b[0;31mNameError\u001b[0m: name 'BONSAI_SOLR_HOSTNAME' is not defined"
     ]
    }
   ],
   "source": [
    "queries = get_test_queries()\n",
    "embeddings = calculate_outdoors_embeddings(model)\n",
    "query_embeddings = model.encode(queries, convert_to_numpy=True, normalize_embeddings=True)\n",
    "for slice in [512, 256, 128]:    \n",
    "    scaled_embeddings = numpy.array(list(map(lambda e: e[:slice], embeddings)))\n",
    "    quantized_queries = numpy.array(list(map(lambda qe: qe[:slice], query_embeddings)))\n",
    "    index_name = f\"mrl_out_embs_{slice}\"\n",
    "    index = index_embeddings(scaled_embeddings, index_name)\n",
    "    evaluate_search(index, index_name, query_embeddings, quantized_queries)\n",
    "    evaluate_rerank_search(index, query_embeddings, quantized_queries)"
   ]
  },
  {
   "cell_type": "markdown",
   "metadata": {},
   "source": [
    "## Listing 13.24\n",
    "### Product quantizationQ"
   ]
  },
  {
   "cell_type": "code",
   "execution_count": 9,
   "metadata": {},
   "outputs": [
    {
     "name": "stdout",
     "output_type": "stream",
     "text": [
      "full_out_embs search took: 4.253 ms \n",
      "full_out_embs index size: 75.6 MB \n",
      "pq_out_embs search took: 0.538 ms (87.35% improvement)\n",
      "pq_out_embs index size: 76.79 MB (-1.58% improvement)\n",
      "Recall: 0.28\n"
     ]
    }
   ],
   "source": [
    "def index_pq_embeddings(embeddings, name=\"pq_out_embs\"):    \n",
    "    dimensions = embeddings.shape[1]\n",
    "    sub_vectors = 8\n",
    "    subquantizer_bits = 8\n",
    "    #faiss::IndexIVFPQ, IndexIVFPQR\n",
    "    index = faiss.IndexPQ(dimensions, sub_vectors, subquantizer_bits)\n",
    "    index.train(embeddings)\n",
    "    index.add(embeddings)\n",
    "    faiss.write_index(index, name)\n",
    "    return index\n",
    "\n",
    "embeddings, outdoors_data = calculate_outdoors_embeddings()\n",
    "query_embeddings = model.encode([\"Hiking trails\"], convert_to_numpy=True, normalize_embeddings=True)\n",
    "scored_full_results, full_search_time, full_index_size = \\\n",
    "    execute_full_search(embeddings, query_embeddings, outdoors_data)\n",
    "embeddings, outdoors_data = calculate_outdoors_embeddings()\n",
    "index = index_pq_reranked_embeddings(embeddings)\n",
    "scored_results, _, _ = execute_search(index, \"pq_out_embs\", query_embeddings, outdoors_data,\n",
    "                                      full_search_time=full_search_time,\n",
    "                                      full_index_size=full_index_size)\n",
    "calculate_recall(scored_full_results, scored_results)\n",
    "evaluate_rerank_search(index, query_embeddings, quantized_queries)"
   ]
  },
  {
   "cell_type": "markdown",
   "metadata": {},
   "source": [
    "## Listing 13.25\n",
    "### Quantization and reranking"
   ]
  },
  {
   "cell_type": "code",
   "execution_count": 46,
   "metadata": {},
   "outputs": [
    {
     "name": "stdout",
     "output_type": "stream",
     "text": [
      "1725724314.2350457\n",
      "1725724314.2433279\n",
      "Recall: 1.0\n",
      "9.45281982421875 8.281230926513672\n"
     ]
    }
   ],
   "source": [
    "from pyspark.sql.functions import col, udf, monotonically_increasing_id\n",
    "from pyspark.sql.types import Row, ArrayType, FloatType, StructField, StructType, StringType, ByteType\n",
    "import faiss\n",
    "from aips.data_loaders.outdoors import load_dataframe\n",
    "\n",
    "def calculate_outdoors_embeddingsss():\n",
    "    outdoors_dataframe = load_dataframe(\"data/outdoors/posts.csv\")\n",
    "    post_texts = [post[\"title\"] + \" \" + post[\"body\"]\n",
    "                  for post in outdoors_dataframe.collect()]\n",
    "    embeddings = get_embeddings(post_texts, \"outdoors_mrl_normed\", model)\n",
    "    outdoors_data = list(outdoors_dataframe.rdd.map(lambda r: r.asDict()).collect())\n",
    "    print(f\"embeddings type {(type(embeddings))}\")\n",
    "    embeddings = numpy.array(embeddings)\n",
    "    quantized_embeddings = numpy.zeros_like(embeddings, dtype=numpy.int8)\n",
    "    quantized_embeddings[embeddings > 0] = 1\n",
    "    for i in range(len(outdoors_data)):\n",
    "        #embs = [float(e) for e in embeddings[i]] numpy.packbits(embeddings > 0) \\\n",
    "            #.reshape(embeddings, -1).tolist()\n",
    "        #[float(e) for e in embeddings[i]]\n",
    "        outdoors_data[i][\"text_embedding\"] = embeddings[i].tolist()\n",
    "        outdoors_data[i][\"binary_text_embedding\"] = quantized_embeddings[i].tolist()\n",
    "    return outdoors_data\n",
    "\n",
    "def build_engine_quantization_index():\n",
    "    outdoors_data = calculate_outdoors_embeddingsss()\n",
    "    schema = StructType([StructField(\"title\", StringType()),\n",
    "                         StructField(\"body\", StringType()),\n",
    "                         StructField(\"text_embedding\", ArrayType(FloatType())),\n",
    "                         StructField(\"binary_text_embedding\", ArrayType(ByteType()))])\n",
    "    outdoors_dataframe = spark.createDataFrame(\n",
    "        [Row(title=x[\"title\"], body=x[\"body\"],\n",
    "             text_embedding=x[\"text_embedding\"],\n",
    "             binary_text_embedding=x[\"binary_text_embedding\"])\n",
    "             for x in outdoors_data], schema=schema)\n",
    "    #embeddings = list(embeddings)\n",
    "    #outdoors_data = load_dataframe(\"data/outdoors/posts.csv\")\n",
    "    #quantized_embeddings = [quantize(e) for e in normalized_embeddings]\n",
    "    embeddings_collection = engine.create_collection(\"outdoors_quantization\")\n",
    "    embeddings_collection.write(outdoors_dataframe)\n",
    "\n",
    "def search_request(query_vector, query_field,\n",
    "                   rerank_vector=None, rerank_query_field=None,\n",
    "                   quantization_size=None, k=1000, limit=25):\n",
    "    request = {\"query\": query_vector,\n",
    "               \"query_fields\": [query_field],\n",
    "               \"return_fields\": [\"title\", \"body\", \"id\",\"score\"],\n",
    "               \"limit\": limit,\n",
    "               \"k\": k}\n",
    "    if rerank_vector and rerank_query_field:\n",
    "        request[\"rerank_query\"] = {\"query\": rerank_vector,\n",
    "                                   \"query_fields\": [rerank_query_field],\n",
    "                                   \"k\": k}\n",
    "    return request\n",
    "\n",
    "def engine_rankings(query, log=False):\n",
    "    collection = engine.get_collection(\"outdoors_quantization\")\n",
    "    query_embedding = model.encode([query], convert_to_numpy=True, normalize_embeddings=True)\n",
    "    quantized_queries = numpy.zeros_like(query_embedding, dtype=numpy.int8)\n",
    "    quantized_queries[query_embedding > 0] = 1\n",
    "\n",
    "    full_start_time = time.time()\n",
    "    full_request = search_request(query_embedding[0].tolist(), \"text_embedding\")\n",
    "    full_results = collection.search(**full_request)\n",
    "    full_time_taken = ((time.time() - full_start_time) * 1000)\n",
    "\n",
    "    binary_start_time = time.time()\n",
    "    print(binary_start_time)\n",
    "    binary_request = search_request(quantized_queries[0].tolist(), \"binary_text_embedding\",\n",
    "                                    query_embedding[0].tolist(), \"text_embedding\",\n",
    "                                    \"BINARY\")\n",
    "    binary_results = collection.search(**binary_request)\n",
    "    binary_time_taken = ((time.time() - binary_start_time) * 1000)\n",
    "    print(time.time())\n",
    "\n",
    "    calculate_recall([full_results[\"docs\"]], [binary_results[\"docs\"]])\n",
    "    print(full_time_taken, binary_time_taken) \n",
    "\n",
    "#build_engine_quantization_index()\n",
    "collection = engine.get_collection(\"outdoors_quantization\")\n",
    "engine_rankings(\"hiking trails\")"
   ]
  }
 ],
 "metadata": {
  "kernelspec": {
   "display_name": "Python 3 (ipykernel)",
   "language": "python",
   "name": "python3"
  },
  "language_info": {
   "codemirror_mode": {
    "name": "ipython",
    "version": 3
   },
   "file_extension": ".py",
   "mimetype": "text/x-python",
   "name": "python",
   "nbconvert_exporter": "python",
   "pygments_lexer": "ipython3",
   "version": "3.10.9"
  }
 },
 "nbformat": 4,
 "nbformat_minor": 2
}

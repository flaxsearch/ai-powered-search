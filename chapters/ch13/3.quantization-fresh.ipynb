{
 "cells": [
  {
   "cell_type": "code",
   "execution_count": 1,
   "metadata": {},
   "outputs": [
    {
     "name": "stderr",
     "output_type": "stream",
     "text": [
      "/opt/conda/lib/python3.10/site-packages/sentence_transformers/cross_encoder/CrossEncoder.py:11: TqdmExperimentalWarning: Using `tqdm.autonotebook.tqdm` in notebook mode. Use `tqdm.tqdm` instead to force console mode (e.g. in jupyter console)\n",
      "  from tqdm.autonotebook import tqdm, trange\n",
      "/opt/conda/lib/python3.10/site-packages/transformers/utils/generic.py:441: FutureWarning: `torch.utils._pytree._register_pytree_node` is deprecated. Please use `torch.utils._pytree.register_pytree_node` instead.\n",
      "  _torch_pytree._register_pytree_node(\n",
      "/opt/conda/lib/python3.10/site-packages/transformers/utils/generic.py:309: FutureWarning: `torch.utils._pytree._register_pytree_node` is deprecated. Please use `torch.utils._pytree.register_pytree_node` instead.\n",
      "  _torch_pytree._register_pytree_node(\n"
     ]
    }
   ],
   "source": [
    "import os\n",
    "import pickle\n",
    "from aips.data_loaders.outdoors import load_dataframe\n",
    "from aips import get_engine\n",
    "from sentence_transformers import SentenceTransformer, SimilarityFunction\n",
    "from sentence_transformers.quantization import quantize_embeddings\n",
    "from sentence_transformers.util import cos_sim\n",
    "from pyspark.sql import SparkSession\n",
    "from aips import get_engine\n",
    "import time\n",
    "import numpy\n",
    "import math\n",
    "\n",
    "engine = get_engine()\n",
    "spark = SparkSession.builder.appName(\"AIPS\").getOrCreate()\n",
    "\n",
    "#https://github.com/facebookresearch/faiss/wiki/Pre--and-post-processing\n",
    "#https://github.com/facebookresearch/faiss/wiki"
   ]
  },
  {
   "cell_type": "code",
   "execution_count": 2,
   "metadata": {},
   "outputs": [
    {
     "name": "stdout",
     "output_type": "stream",
     "text": [
      "Already up to date.\n",
      "README.md\n",
      "concepts.pickle\n",
      "._guesses.csv\n",
      "guesses.csv\n",
      "._guesses_all.json\n",
      "guesses_all.json\n",
      "outdoors_concepts.pickle\n",
      "outdoors_embeddings.pickle\n",
      "._outdoors_golden_answers.csv\n",
      "outdoors_golden_answers.csv\n",
      "._outdoors_golden_answers.xlsx\n",
      "outdoors_golden_answers.xlsx\n",
      "._outdoors_golden_answers_20210130.csv\n",
      "outdoors_golden_answers_20210130.csv\n",
      "outdoors_labels.pickle\n",
      "outdoors_question_answering_contexts.json\n",
      "outdoors_questionanswering_test_set.json\n",
      "outdoors_questionanswering_train_set.json\n",
      "._posts.csv\n",
      "posts.csv\n",
      "predicates.pickle\n",
      "pull_aips_dependency.py\n",
      "._question-answer-seed-contexts.csv\n",
      "question-answer-seed-contexts.csv\n",
      "question-answer-squad2-guesses.csv\n",
      "._roberta-base-squad2-outdoors\n",
      "roberta-base-squad2-outdoors/\n",
      "roberta-base-squad2-outdoors/._tokenizer_config.json\n",
      "roberta-base-squad2-outdoors/tokenizer_config.json\n",
      "roberta-base-squad2-outdoors/._special_tokens_map.json\n",
      "roberta-base-squad2-outdoors/special_tokens_map.json\n",
      "roberta-base-squad2-outdoors/._config.json\n",
      "roberta-base-squad2-outdoors/config.json\n",
      "roberta-base-squad2-outdoors/._merges.txt\n",
      "roberta-base-squad2-outdoors/merges.txt\n",
      "roberta-base-squad2-outdoors/._training_args.bin\n",
      "roberta-base-squad2-outdoors/training_args.bin\n",
      "roberta-base-squad2-outdoors/._pytorch_model.bin\n",
      "roberta-base-squad2-outdoors/pytorch_model.bin\n",
      "roberta-base-squad2-outdoors/._vocab.json\n",
      "roberta-base-squad2-outdoors/vocab.json\n"
     ]
    }
   ],
   "source": [
    "![ ! -d 'outdoors' ] && git clone --depth=1 https://github.com/ai-powered-search/outdoors.git\n",
    "! cd outdoors && git pull\n",
    "! cd outdoors && cat outdoors.tgz.part* > outdoors.tgz\n",
    "! cd outdoors && mkdir -p '../data/outdoors/' && tar -xvf outdoors.tgz -C '../data/outdoors/'\n",
    "\n",
    "#outdoors_collection = engine.create_collection(\"outdoors\")"
   ]
  },
  {
   "cell_type": "code",
   "execution_count": 3,
   "metadata": {},
   "outputs": [],
   "source": [
    "dimensions = 1024\n",
    "#model = SentenceTransformer(\"tomaarsen/mpnet-base-nli-matryoshka\", matryoshka_dims=64)\n",
    "model = SentenceTransformer(\"mixedbread-ai/mxbai-embed-large-v1\",\n",
    "                            similarity_fn_name=SimilarityFunction.DOT_PRODUCT,\n",
    "                            truncate_dim=dimensions)\n",
    "#_ = model.half()\n",
    "def get_embeddings(texts, cache_name, ignore_cache=False):\n",
    "    cache_file_name = f\"data/embeddings/{cache_name}.pickle\"\n",
    "    if ignore_cache or not os.path.isfile(cache_file_name):        \n",
    "        #pool = model.start_multi_process_pool()\n",
    "        embeddings = model.encode(texts, normalize_embeddings=True)\n",
    "        #model.stop_multi_process_pool(pool)\n",
    "        #embeddings = model.encode(texts, convert_to_tensor=False).tolist()\n",
    "        os.makedirs(os.path.dirname(cache_file_name), exist_ok=True)\n",
    "        with open(cache_file_name, \"wb\") as fd:\n",
    "            pickle.dump(embeddings, fd)\n",
    "    else:\n",
    "        with open(cache_file_name, \"rb\") as fd:\n",
    "            embeddings = pickle.load(fd)\n",
    "    return embeddings"
   ]
  },
  {
   "cell_type": "markdown",
   "metadata": {},
   "source": [
    "## Listing 13.21\n",
    "### Generating embeddings and benchmark data"
   ]
  },
  {
   "cell_type": "code",
   "execution_count": 4,
   "metadata": {},
   "outputs": [],
   "source": [
    "import faiss\n",
    "from aips.data_loaders.outdoors import load_dataframe\n",
    "\n",
    "def index_embeddings(embeddings, name):\n",
    "    index = faiss.IndexFlatIP(embeddings.shape[1])\n",
    "    index.add(embeddings)\n",
    "    faiss.write_index(index, name)\n",
    "    return index\n",
    "\n",
    "def calculate_outdoors_embeddings():\n",
    "    outdoors_dataframe = load_dataframe(\"data/outdoors/posts.csv\")\n",
    "    post_texts = [post[\"title\"] + \" \" + post[\"body\"]\n",
    "                  for post in outdoors_dataframe.collect()]\n",
    "    embeddings = get_embeddings(post_texts, \"outdoors_mrl_normed\")\n",
    "    outdoors_data = list(outdoors_dataframe.rdd.map(lambda r: r.asDict()).collect())\n",
    "    return numpy.array(embeddings), outdoors_data"
   ]
  },
  {
   "cell_type": "code",
   "execution_count": 5,
   "metadata": {},
   "outputs": [],
   "source": [
    "embeddings, outdoors_dataframe = calculate_outdoors_embeddings()"
   ]
  },
  {
   "cell_type": "markdown",
   "metadata": {},
   "source": [
    "## Listing 13.22\n",
    "### int8 quantization"
   ]
  },
  {
   "cell_type": "code",
   "execution_count": 6,
   "metadata": {},
   "outputs": [
    {
     "name": "stdout",
     "output_type": "stream",
     "text": [
      "full_out_embs search took: 3.871 ms \n",
      "full_out_embs index size: 75.595821 bytes \n",
      "int8_out_embs search took: 4.059 ms (-4.87% improvement)\n",
      "int8_out_embs index size: 18.907217 bytes (74.99% improvement)\n",
      "Recall: 0.96\n"
     ]
    }
   ],
   "source": [
    "def index_int_embeddings(embeddings, name):\n",
    "    embeddings = quantize_embeddings(embeddings, precision=\"int8\")\n",
    "    index = faiss.IndexScalarQuantizer(embeddings.shape[1], faiss.ScalarQuantizer.QT_8bit)\n",
    "    index.train(embeddings)\n",
    "    index.add(embeddings)\n",
    "    faiss.write_index(index, name)\n",
    "    return index\n",
    "\n",
    "def execute_search(index, index_name, embedded_query, k=25, log=False,\n",
    "                   target_time_taken=None, target_size=None):\n",
    "    start_time = time.time()\n",
    "    faiss_scores, faiss_doc_ids = index.search(embedded_query, k) \n",
    "    time_taken = ((time.time() - start_time) * 1000)\n",
    "    size = os.path.getsize(index_name)\n",
    "    improvement_ms, improvement_size = calculate_stat_messages(target_time_taken, time_taken,\n",
    "                                                               target_size, size)\n",
    "    print(f\"{index_name} search took: {time_taken:.3f} ms {improvement_ms}\")\n",
    "    print(f\"{index_name} index size: \" + '{:,}'.format(size / 1000000) + f\" bytes {improvement_size}\")\n",
    "    if log:\n",
    "        display(f\"Execute search scores: {faiss_scores}\")\n",
    "        display(f\"Search ids: {faiss_doc_ids}\")\n",
    "    return faiss_scores, faiss_doc_ids, time_taken, size\n",
    "\n",
    "def display_results(scores, ids, data):\n",
    "    results = generate_search_results(scores, ids, data)\n",
    "    display(results)\n",
    "    return results\n",
    "\n",
    "def generate_search_results(faiss_scores, faiss_ids, data):\n",
    "    scores = list(list(faiss_scores)[0])\n",
    "    ids = list(faiss_ids)\n",
    "    results = []\n",
    "    for i, id in enumerate(ids[0]):\n",
    "        id = int(id)\n",
    "        result = {\"score\": scores[i],\n",
    "                  \"title\": data[id][\"title\"],\n",
    "                  \"body\": data[id][\"body\"],\n",
    "                  \"id\": id}\n",
    "        results.append(result)\n",
    "    return results\n",
    "\n",
    "def calculate_recall(scored_full_results, scored_quantized_results):\n",
    "    full_ids = [r[\"id\"] for r in scored_full_results]\n",
    "    quantized_ids = [r[\"id\"] for r in scored_quantized_results]\n",
    "    recall =  (len(set(full_ids).intersection(set(quantized_ids))) /\n",
    "               len(set(quantized_ids)))\n",
    "    print(\"Recall: \" + str(recall))\n",
    "\n",
    "def execute_full_search(embeddings, query_embeddings, outdoors_data):    \n",
    "    embeddings, outdoors_data = calculate_outdoors_embeddings()\n",
    "    full_index = index_embeddings(embeddings, \"full_out_embs\")\n",
    "    full_search_scores, ids, time, size = execute_search(full_index, \"full_out_embs\", query_embeddings)\n",
    "    scored_full_results = generate_search_results(full_search_scores, ids, outdoors_data)\n",
    "    #display(scored_full_results)\n",
    "    return scored_full_results, time, size\n",
    "\n",
    "def calculate_stat_messages(target_time, time_taken, target_size, size):\n",
    "    if target_time:\n",
    "        t = round((target_time - time_taken) * 100 / target_time, 2)\n",
    "    improvement_ms = f\"({t}% improvement)\" if target_time else \"\"\n",
    "    improvement_size = f\"({round((target_size - size) * 100 / target_size, 2)}% improvement)\" if target_size else \"\"\n",
    "    return improvement_ms, improvement_size\n",
    "\n",
    "embeddings, outdoors_data = calculate_outdoors_embeddings()\n",
    "query_embeddings = model.encode([\"tent poles\"], convert_to_numpy=True, normalize_embeddings=True)\n",
    "scored_full_results, target_time, target_size = \\\n",
    "    execute_full_search(embeddings, query_embeddings, outdoors_data)\n",
    "\n",
    "int8_index = index_int_embeddings(embeddings, \"int8_out_embs\")\n",
    "int8_query_embeddings = quantize_embeddings(query_embeddings, calibration_embeddings=embeddings,\n",
    "                                            precision=\"int8\")\n",
    "int8_search_scores, int8_ids, _, _ = execute_search(int8_index, \"int8_out_embs\", int8_query_embeddings,\n",
    "                                              target_time_taken=target_time,\n",
    "                                              target_size=target_size)\n",
    "scored_int8_results = generate_search_results(int8_search_scores, int8_ids, outdoors_data)\n",
    "\n",
    "calculate_recall(scored_full_results, scored_int8_results)"
   ]
  },
  {
   "cell_type": "markdown",
   "metadata": {},
   "source": [
    "## Listing 13.23\n",
    "### Binary Quantization"
   ]
  },
  {
   "cell_type": "code",
   "execution_count": 7,
   "metadata": {},
   "outputs": [
    {
     "name": "stdout",
     "output_type": "stream",
     "text": [
      "Binary embeddings computed. Shape: (18456, 128)\n",
      "binary_out_embs search took: 4.330 ms (-11.87% improvement)\n",
      "binary_out_embs index size: 2.362401 bytes (96.87% improvement)\n",
      "Recall: 0.68\n"
     ]
    }
   ],
   "source": [
    "def binary_quantize_embeddings(embeddings):\n",
    "    quantized_embs = numpy.where(embeddings < 0, 0, 1).astype(numpy.uint8) # binarize\n",
    "    return numpy.packbits(quantized_embs).reshape(quantized_embs.shape[0], -1)\n",
    "    \n",
    "def index_binary_embeddings(embeddings):\n",
    "    #binary_embeddings = binary_quantize_embeddings(embeddings)\n",
    "    binary_embeddings = numpy.packbits(embeddings > 0).reshape(embeddings.shape[0], -1)\n",
    "    print(\"Binary embeddings computed. Shape:\", binary_embeddings.shape)\n",
    "    index = faiss.IndexBinaryFlat(binary_embeddings.shape[1] * 8)\n",
    "    index.add(binary_embeddings)\n",
    "    faiss.write_index_binary(index, \"binary_out_embs\")\n",
    "    return index\n",
    "\n",
    "binary_index = index_binary_embeddings(embeddings)\n",
    "binary_query_embeddings = binary_quantize_embeddings(query_embeddings)\n",
    "binary_search_scores, binary_ids, _, _ = execute_search(binary_index, \"binary_out_embs\",\n",
    "                                                  binary_query_embeddings, log=False,\n",
    "                                                  target_time_taken=target_time,\n",
    "                                                  target_size=target_size)\n",
    "scored_binary_results = generate_search_results(binary_search_scores, binary_ids, outdoors_data)\n",
    "\n",
    "calculate_recall(scored_full_results, scored_binary_results)\n",
    "# (vs. 5.000 ms, 90% reduction)"
   ]
  },
  {
   "cell_type": "markdown",
   "metadata": {},
   "source": [
    "## Listing 13.24\n",
    "### Matroyoshka Learned Representations"
   ]
  },
  {
   "cell_type": "code",
   "execution_count": 10,
   "metadata": {},
   "outputs": [
    {
     "name": "stdout",
     "output_type": "stream",
     "text": [
      "mrl_out_embs_512 search took: 2.366 ms (38.89% improvement)\n",
      "mrl_out_embs_512 index size: 37.797933 bytes (50.0% improvement)\n",
      "Recall: 0.0\n",
      "mrl_out_embs_256 search took: 1.102 ms (71.52% improvement)\n",
      "mrl_out_embs_256 index size: 18.898989 bytes (75.0% improvement)\n",
      "Recall: 0.0\n",
      "mrl_out_embs_128 search took: 0.509 ms (86.86% improvement)\n",
      "mrl_out_embs_128 index size: 9.449517 bytes (87.5% improvement)\n",
      "Recall: 0.0\n"
     ]
    }
   ],
   "source": [
    "def evaluate_mrl_quantized_searches(query):\n",
    "    embeddings, outdoors_data = calculate_outdoors_embeddings()\n",
    "    query_embeddings = model.encode([query], convert_to_numpy=True, normalize_embeddings=True)\n",
    "    for slice in [512, 256, 128]:\n",
    "        scaled_embeddings = numpy.array(list(map(lambda e: e[:slice], embeddings)))\n",
    "        index = index_embeddings(scaled_embeddings, f\"mrl_out_embs_{slice}\")\n",
    "        scaled_query_embeddings = numpy.array(list(map(lambda qe: qe[:slice], query_embeddings)))\n",
    "        search_scores, ids, _, _ = execute_search(index, f\"mrl_out_embs_{slice}\", scaled_query_embeddings,\n",
    "                                            target_time_taken=target_time,\n",
    "                                            target_size=target_size)\n",
    "        scored_results = generate_search_results(search_scores, ids, outdoors_data)\n",
    "        calculate_recall(scored_full_results, scored_results)\n",
    "        #yield calculate_recall\n",
    "\n",
    "evaluate_mrl_quantized_searches(\"hiking trails\")\n",
    "\n",
    "#full_out_embs search took: 3.900 ms\n",
    "#full_out_embs index size: 75,595,821 bytes"
   ]
  },
  {
   "cell_type": "markdown",
   "metadata": {},
   "source": [
    "## Listing 13.25\n",
    "### Product quantizationQ"
   ]
  },
  {
   "cell_type": "code",
   "execution_count": 15,
   "metadata": {},
   "outputs": [],
   "source": [
    "def index_pq_embeddings(embeddings, name=\"pq_out_embs\"):    \n",
    "    dimensions = embeddings.shape[1]\n",
    "    sub_vectors = 8\n",
    "    subquantizer_bits = 8\n",
    "    #faiss::IndexIVFPQ, IndexIVFPQR\n",
    "    index = faiss.IndexPQ(dimensions, sub_vectors, subquantizer_bits)\n",
    "    index.train(embeddings)\n",
    "    index.add(embeddings)\n",
    "    faiss.write_index(index, name)\n",
    "    return index\n",
    "\n",
    "def index_pq_reranked_embeddings(embeddings, name=\"pq_out_embs\"):    \n",
    "    dimensions = embeddings.shape[1]\n",
    "    sub_vectors = 8\n",
    "    subquantizer_bits = 8\n",
    "    #faiss::IndexIVFPQ, IndexIVFPQR\n",
    "    index = faiss.IndexPQ(dimensions, sub_vectors, subquantizer_bits)\n",
    "    rereanking_pq_index = faiss.IndexRefineFlat(index)\n",
    "    rereanking_pq_index.train(embeddings)\n",
    "    rereanking_pq_index.add(embeddings)\n",
    "    faiss.write_index(rereanking_pq_index, name)\n",
    "    return index\n",
    "\n",
    "embeddings, outdoors_data = calculate_outdoors_embeddings()\n",
    "index = index_pq_reranked_embeddings(embeddings)\n",
    "scores, ids, _, _ = execute_search(index, \"pq_out_embs\", query_embeddings,\n",
    "                                   target_time_taken=target_time,\n",
    "                                   target_size=target_size)\n",
    "scored_results = generate_search_results(scores, ids, outdoors_data)\n",
    "calculate_recall(scored_full_results, scored_results)"
   ]
  },
  {
   "cell_type": "markdown",
   "metadata": {},
   "source": [
    "## Listing 13.26\n",
    "### Quantization and reranking"
   ]
  },
  {
   "cell_type": "code",
   "execution_count": null,
   "metadata": {},
   "outputs": [],
   "source": []
  }
 ],
 "metadata": {
  "kernelspec": {
   "display_name": "Python 3 (ipykernel)",
   "language": "python",
   "name": "python3"
  },
  "language_info": {
   "codemirror_mode": {
    "name": "ipython",
    "version": 3
   },
   "file_extension": ".py",
   "mimetype": "text/x-python",
   "name": "python",
   "nbconvert_exporter": "python",
   "pygments_lexer": "ipython3",
   "version": "3.10.9"
  }
 },
 "nbformat": 4,
 "nbformat_minor": 2
}

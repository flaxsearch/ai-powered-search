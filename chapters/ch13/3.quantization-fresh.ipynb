{
 "cells": [
  {
   "cell_type": "code",
   "execution_count": 1,
   "metadata": {},
   "outputs": [
    {
     "name": "stderr",
     "output_type": "stream",
     "text": [
      "/opt/conda/lib/python3.10/site-packages/sentence_transformers/cross_encoder/CrossEncoder.py:11: TqdmExperimentalWarning: Using `tqdm.autonotebook.tqdm` in notebook mode. Use `tqdm.tqdm` instead to force console mode (e.g. in jupyter console)\n",
      "  from tqdm.autonotebook import tqdm, trange\n",
      "/opt/conda/lib/python3.10/site-packages/transformers/utils/generic.py:441: FutureWarning: `torch.utils._pytree._register_pytree_node` is deprecated. Please use `torch.utils._pytree.register_pytree_node` instead.\n",
      "  _torch_pytree._register_pytree_node(\n",
      "/opt/conda/lib/python3.10/site-packages/transformers/utils/generic.py:309: FutureWarning: `torch.utils._pytree._register_pytree_node` is deprecated. Please use `torch.utils._pytree.register_pytree_node` instead.\n",
      "  _torch_pytree._register_pytree_node(\n"
     ]
    }
   ],
   "source": [
    "import os\n",
    "import pickle\n",
    "from aips.data_loaders.outdoors import load_dataframe\n",
    "from aips import get_engine\n",
    "from sentence_transformers import SentenceTransformer, SimilarityFunction\n",
    "from sentence_transformers.util import cos_sim\n",
    "from pyspark.sql import SparkSession\n",
    "from aips import get_engine\n",
    "import time\n",
    "import numpy\n",
    "import math\n",
    "\n",
    "engine = get_engine()\n",
    "spark = SparkSession.builder.appName(\"AIPS\").getOrCreate()\n",
    "\n",
    "#https://github.com/facebookresearch/faiss/wiki/Pre--and-post-processing\n",
    "#https://github.com/facebookresearch/faiss/wiki"
   ]
  },
  {
   "cell_type": "code",
   "execution_count": 2,
   "metadata": {},
   "outputs": [
    {
     "name": "stdout",
     "output_type": "stream",
     "text": [
      "Already up to date.\n",
      "README.md\n",
      "concepts.pickle\n",
      "._guesses.csv\n",
      "guesses.csv\n",
      "._guesses_all.json\n",
      "guesses_all.json\n",
      "outdoors_concepts.pickle\n",
      "outdoors_embeddings.pickle\n",
      "._outdoors_golden_answers.csv\n",
      "outdoors_golden_answers.csv\n",
      "._outdoors_golden_answers.xlsx\n",
      "outdoors_golden_answers.xlsx\n",
      "._outdoors_golden_answers_20210130.csv\n",
      "outdoors_golden_answers_20210130.csv\n",
      "outdoors_labels.pickle\n",
      "outdoors_question_answering_contexts.json\n",
      "outdoors_questionanswering_test_set.json\n",
      "outdoors_questionanswering_train_set.json\n",
      "._posts.csv\n",
      "posts.csv\n",
      "predicates.pickle\n",
      "pull_aips_dependency.py\n",
      "._question-answer-seed-contexts.csv\n",
      "question-answer-seed-contexts.csv\n",
      "question-answer-squad2-guesses.csv\n",
      "._roberta-base-squad2-outdoors\n",
      "roberta-base-squad2-outdoors/\n",
      "roberta-base-squad2-outdoors/._tokenizer_config.json\n",
      "roberta-base-squad2-outdoors/tokenizer_config.json\n",
      "roberta-base-squad2-outdoors/._special_tokens_map.json\n",
      "roberta-base-squad2-outdoors/special_tokens_map.json\n",
      "roberta-base-squad2-outdoors/._config.json\n",
      "roberta-base-squad2-outdoors/config.json\n",
      "roberta-base-squad2-outdoors/._merges.txt\n",
      "roberta-base-squad2-outdoors/merges.txt\n",
      "roberta-base-squad2-outdoors/._training_args.bin\n",
      "roberta-base-squad2-outdoors/training_args.bin\n",
      "roberta-base-squad2-outdoors/._pytorch_model.bin\n",
      "roberta-base-squad2-outdoors/pytorch_model.bin\n",
      "roberta-base-squad2-outdoors/._vocab.json\n",
      "roberta-base-squad2-outdoors/vocab.json\n"
     ]
    }
   ],
   "source": [
    "![ ! -d 'outdoors' ] && git clone --depth=1 https://github.com/ai-powered-search/outdoors.git\n",
    "! cd outdoors && git pull\n",
    "! cd outdoors && cat outdoors.tgz.part* > outdoors.tgz\n",
    "! cd outdoors && mkdir -p '../data/outdoors/' && tar -xvf outdoors.tgz -C '../data/outdoors/'\n",
    "\n",
    "#outdoors_collection = engine.create_collection(\"outdoors\")"
   ]
  },
  {
   "cell_type": "code",
   "execution_count": 3,
   "metadata": {},
   "outputs": [],
   "source": [
    "dimensions = 1024\n",
    "#model = SentenceTransformer(\"tomaarsen/mpnet-base-nli-matryoshka\", matryoshka_dims=64)\n",
    "model = SentenceTransformer(\"mixedbread-ai/mxbai-embed-large-v1\",\n",
    "                            similarity_fn_name=SimilarityFunction.DOT_PRODUCT,\n",
    "                            truncate_dim=dimensions)\n",
    "#_ = model.half()\n",
    "def get_embeddings(texts, cache_name, ignore_cache=False):\n",
    "    cache_file_name = f\"data/embeddings/{cache_name}.pickle\"\n",
    "    if ignore_cache or not os.path.isfile(cache_file_name):        \n",
    "        #pool = model.start_multi_process_pool()\n",
    "        embeddings = model.encode(texts, normalize_embeddings=True)\n",
    "        #model.stop_multi_process_pool(pool)\n",
    "        #embeddings = model.encode(texts, convert_to_tensor=False).tolist()\n",
    "        os.makedirs(os.path.dirname(cache_file_name), exist_ok=True)\n",
    "        with open(cache_file_name, \"wb\") as fd:\n",
    "            pickle.dump(embeddings, fd)\n",
    "    else:\n",
    "        with open(cache_file_name, \"rb\") as fd:\n",
    "            embeddings = pickle.load(fd)\n",
    "    return embeddings"
   ]
  },
  {
   "cell_type": "markdown",
   "metadata": {},
   "source": [
    "## Listing 13.21\n",
    "### Generating embeddings and benchmark data"
   ]
  },
  {
   "cell_type": "code",
   "execution_count": 4,
   "metadata": {},
   "outputs": [],
   "source": [
    "import faiss\n",
    "from aips.data_loaders.outdoors import load_dataframe\n",
    "\n",
    "def calculate_outdoors_embeddings():\n",
    "    outdoors_dataframe = load_dataframe(\"data/outdoors/posts.csv\")\n",
    "    post_texts = [post[\"title\"] + \" \" + post[\"body\"]\n",
    "                  for post in outdoors_dataframe.collect()]\n",
    "    embeddings = get_embeddings(post_texts, \"outdoors_mrl_normed\")\n",
    "    outdoors_data = list(outdoors_dataframe.rdd.map(lambda r: r.asDict()).collect())\n",
    "    return numpy.array(embeddings), outdoors_data\n",
    "\n",
    "def display_results(scores, ids, data):\n",
    "    results = generate_search_results(scores, ids, data)\n",
    "    display(results)\n",
    "    return results\n",
    "\n",
    "def calculate_stat_messages(target_time, time_taken, target_size, size):\n",
    "    if target_time:\n",
    "        t = round((target_time - time_taken) * 100 / target_time, 2)\n",
    "    improvement_ms = f\"({t}% improvement)\" if target_time else \"\"\n",
    "    improvement_size = f\"({round((target_size - size) * 100 / target_size, 2)}% improvement)\" if target_size else \"\"\n",
    "    return improvement_ms, improvement_size\n",
    "\n",
    "def generate_search_results(faiss_scores, faiss_ids, data):\n",
    "    scores = list(list(faiss_scores)[0])\n",
    "    ids = list(faiss_ids)\n",
    "    results = []\n",
    "    for i, id in enumerate(ids[0]):\n",
    "        id = int(id)\n",
    "        result = {\"score\": scores[i],\n",
    "                  \"title\": data[id][\"title\"],\n",
    "                  \"body\": data[id][\"body\"],\n",
    "                  \"id\": id}\n",
    "        results.append(result)\n",
    "    return results"
   ]
  },
  {
   "cell_type": "code",
   "execution_count": 5,
   "metadata": {},
   "outputs": [],
   "source": [
    "#This will generate the embeddings. Takes 2-3 hours typically\n",
    "embeddings, outdoors_dataframe = calculate_outdoors_embeddings() "
   ]
  },
  {
   "cell_type": "markdown",
   "metadata": {},
   "source": [
    "## Listing 13.22\n",
    "### int8 quantization"
   ]
  },
  {
   "cell_type": "code",
   "execution_count": 6,
   "metadata": {},
   "outputs": [
    {
     "name": "stdout",
     "output_type": "stream",
     "text": [
      "full_out_embs search took: 5.068 ms \n",
      "full_out_embs index size: 75.6 MB \n",
      "Int8 embeddings shape: (18456, 1024)\n",
      "int8_out_embs search took: 3.607 ms (28.83% improvement)\n",
      "int8_out_embs index size: 18.91 MB (74.99% improvement)\n",
      "Recall: 0.96\n"
     ]
    }
   ],
   "source": [
    "from sentence_transformers.quantization import quantize_embeddings\n",
    "\n",
    "def index_embeddings(embeddings, name):\n",
    "    index = faiss.IndexFlatIP(embeddings.shape[1])\n",
    "    index.add(embeddings)\n",
    "    faiss.write_index(index, name)\n",
    "    return index\n",
    "\n",
    "def execute_full_search(embeddings, query_embeddings, outdoors_data):    \n",
    "    embeddings, outdoors_data = calculate_outdoors_embeddings()\n",
    "    full_index = index_embeddings(embeddings, \"full_out_embs\")\n",
    "    scored_full_results, time, size = execute_search(full_index, \"full_out_embs\",\n",
    "                                                     query_embeddings, outdoors_data)\n",
    "    return scored_full_results, time, size\n",
    "\n",
    "def execute_search(index, index_name, embedded_query, outdoors_data,\n",
    "                   k=25, log=False, target_time=None, target_size=None):\n",
    "    start_time = time.time()\n",
    "    faiss_scores, faiss_doc_ids = index.search(embedded_query, k) \n",
    "    time_taken = ((time.time() - start_time) * 1000)\n",
    "    size = os.path.getsize(index_name)\n",
    "    improvement_ms, improvement_size = calculate_stat_messages(target_time, time_taken,\n",
    "                                                               target_size, size)\n",
    "    print(f\"{index_name} search took: {time_taken:.3f} ms {improvement_ms}\")\n",
    "    print(f\"{index_name} index size: {round(size / 1000000, 2)} MB {improvement_size}\")\n",
    "    if log:\n",
    "        display(f\"Execute search scores: {faiss_scores}\")\n",
    "        display(f\"Search ids: {faiss_doc_ids}\")\n",
    "        \n",
    "    scored_results = generate_search_results(faiss_scores, faiss_doc_ids, outdoors_data)\n",
    "    return scored_results, time_taken, size\n",
    "\n",
    "def calculate_recall(scored_full_results, scored_quantized_results):\n",
    "    full_ids = [r[\"id\"] for r in scored_full_results]\n",
    "    quantized_ids = [r[\"id\"] for r in scored_quantized_results]\n",
    "    recall =  (len(set(full_ids).intersection(set(quantized_ids))) /\n",
    "               len(set(quantized_ids)))\n",
    "    print(\"Recall: \" + str(recall))\n",
    "\n",
    "def index_int_embeddings(embeddings, name):\n",
    "    embeddings = quantize_embeddings(embeddings, precision=\"int8\")\n",
    "    print(\"Int8 embeddings shape:\", embeddings.shape)\n",
    "    index = faiss.IndexScalarQuantizer(embeddings.shape[1], faiss.ScalarQuantizer.QT_8bit)\n",
    "    index.train(embeddings)\n",
    "    index.add(embeddings)\n",
    "    faiss.write_index(index, name)\n",
    "    return index\n",
    "\n",
    "embeddings, outdoors_data = calculate_outdoors_embeddings()\n",
    "query_embeddings = model.encode([\"tent poles\"], convert_to_numpy=True, normalize_embeddings=True)\n",
    "scored_full_results, target_time, target_size = \\\n",
    "    execute_full_search(embeddings, query_embeddings, outdoors_data)\n",
    "\n",
    "int8_index = index_int_embeddings(embeddings, \"int8_out_embs\")\n",
    "quantized_query = quantize_embeddings(query_embeddings,\n",
    "                                            calibration_embeddings=embeddings,\n",
    "                                            precision=\"int8\")\n",
    "scored_int8_results, _, _ = execute_search(int8_index, \"int8_out_embs\",\n",
    "                                           int8_query_embeddings,\n",
    "                                           outdoors_data, \n",
    "                                           target_time=target_time,\n",
    "                                           target_size=target_size)\n",
    "\n",
    "calculate_recall(scored_full_results, scored_int8_results)"
   ]
  },
  {
   "cell_type": "markdown",
   "metadata": {},
   "source": [
    "## Listing 13.23\n",
    "### Binary Quantization"
   ]
  },
  {
   "cell_type": "code",
   "execution_count": 12,
   "metadata": {},
   "outputs": [
    {
     "name": "stdout",
     "output_type": "stream",
     "text": [
      "Binary embeddings shape: (18456, 128)\n",
      "binary_out_embs search took: 0.403 ms (87.99% improvement)\n",
      "binary_out_embs index size: 2.36 MB (96.87% improvement)\n",
      "Recall: 0.64\n"
     ]
    }
   ],
   "source": [
    "def binary_quantize_embeddings(embeddings):\n",
    "    #quantized_embs = numpy.where(embeddings < 0, 0, 1).astype(numpy.uint8) # binarize\n",
    "    return numpy.packbits(embeddings > 0).reshape(embeddings.shape[0], -1)\n",
    "    \n",
    "def index_binary_embeddings(embeddings):\n",
    "    binary_embeddings = numpy.packbits(embeddings > 0).reshape(embeddings.shape[0], -1)\n",
    "    print(\"Binary embeddings shape:\", binary_embeddings.shape)\n",
    "    index = faiss.IndexBinaryFlat(binary_embeddings.shape[1] * 8)\n",
    "    index.add(binary_embeddings)\n",
    "    faiss.write_index_binary(index, \"binary_out_embs\")\n",
    "    return index\n",
    "\n",
    "binary_index = index_binary_embeddings(embeddings)\n",
    "quantized_query = numpy.packbits(embeddings > 0).reshape(embeddings.shape[0], -1)\n",
    "scored_binary_results, _, _ = execute_search(binary_index, \"binary_out_embs\",\n",
    "                                             quantized_query, outdoors_data,\n",
    "                                             log=False,\n",
    "                                             target_time=target_time,\n",
    "                                             target_size=target_size)\n",
    "calculate_recall(scored_full_results, scored_binary_results)\n",
    "# (vs. 5.000 ms, 90% reduction)"
   ]
  },
  {
   "cell_type": "markdown",
   "metadata": {},
   "source": [
    "## Listing 13.24\n",
    "### Matroyoshka Learned Representations"
   ]
  },
  {
   "cell_type": "code",
   "execution_count": 8,
   "metadata": {},
   "outputs": [
    {
     "name": "stdout",
     "output_type": "stream",
     "text": [
      "full_out_embs search took: 3.693 ms \n",
      "full_out_embs index size: 75.6 MB \n",
      "mrl_out_embs_512 search took: 1.903 ms (48.48% improvement)\n",
      "mrl_out_embs_512 index size: 37.8 MB (50.0% improvement)\n",
      "Recall: 0.84\n",
      "mrl_out_embs_256 search took: 1.014 ms (72.55% improvement)\n",
      "mrl_out_embs_256 index size: 18.9 MB (75.0% improvement)\n",
      "Recall: 0.64\n",
      "mrl_out_embs_128 search took: 0.468 ms (87.31% improvement)\n",
      "mrl_out_embs_128 index size: 9.45 MB (87.5% improvement)\n",
      "Recall: 0.52\n"
     ]
    }
   ],
   "source": [
    "def evaluate_mrl_quantized_searches(query):\n",
    "    embeddings, outdoors_data = calculate_outdoors_embeddings()\n",
    "    query_embeddings = model.encode([query], convert_to_numpy=True, normalize_embeddings=True)\n",
    "    scored_full_results, target_time, target_size = \\\n",
    "        execute_full_search(embeddings, query_embeddings, outdoors_data)\n",
    "    for slice in [512, 256, 128]:\n",
    "        scaled_embeddings = numpy.array(list(map(lambda e: e[:slice], embeddings)))\n",
    "        index = index_embeddings(scaled_embeddings, f\"mrl_out_embs_{slice}\")\n",
    "        scaled_query_embeddings = numpy.array(list(map(lambda qe: qe[:slice], query_embeddings)))\n",
    "        scored_results, _, _ = execute_search(index, f\"mrl_out_embs_{slice}\", scaled_query_embeddings,\n",
    "                                                  outdoors_data,\n",
    "                                                  target_time=target_time,\n",
    "                                                  target_size=target_size)        \n",
    "        calculate_recall(scored_full_results, scored_results)\n",
    "\n",
    "evaluate_mrl_quantized_searches(\"tent poles\")\n",
    "\n",
    "#full_out_embs search took: 3.900 ms\n",
    "#full_out_embs index size: 75,595,821 bytes"
   ]
  },
  {
   "cell_type": "markdown",
   "metadata": {},
   "source": [
    "## Listing 13.25\n",
    "### Product quantizationQ"
   ]
  },
  {
   "cell_type": "code",
   "execution_count": 9,
   "metadata": {},
   "outputs": [
    {
     "name": "stdout",
     "output_type": "stream",
     "text": [
      "full_out_embs search took: 3.360 ms \n",
      "full_out_embs index size: 75.6 MB \n",
      "pq_out_embs search took: 0.517 ms (84.6% improvement)\n",
      "pq_out_embs index size: 76.79 MB (-1.58% improvement)\n",
      "Recall: 0.28\n"
     ]
    }
   ],
   "source": [
    "def index_pq_embeddings(embeddings, name=\"pq_out_embs\"):    \n",
    "    dimensions = embeddings.shape[1]\n",
    "    sub_vectors = 8\n",
    "    subquantizer_bits = 8\n",
    "    #faiss::IndexIVFPQ, IndexIVFPQR\n",
    "    index = faiss.IndexPQ(dimensions, sub_vectors, subquantizer_bits)\n",
    "    index.train(embeddings)\n",
    "    index.add(embeddings)\n",
    "    faiss.write_index(index, name)\n",
    "    return index\n",
    "\n",
    "def index_pq_reranked_embeddings(embeddings, name=\"pq_out_embs\"):    \n",
    "    dimensions = embeddings.shape[1]\n",
    "    sub_vectors = 8\n",
    "    subquantizer_bits = 8\n",
    "    #faiss::IndexIVFPQ, IndexIVFPQR\n",
    "    index = faiss.IndexPQ(dimensions, sub_vectors, subquantizer_bits)\n",
    "    rereanking_pq_index = faiss.IndexRefineFlat(index)\n",
    "    rereanking_pq_index.train(embeddings)\n",
    "    rereanking_pq_index.add(embeddings)\n",
    "    faiss.write_index(rereanking_pq_index, name)\n",
    "    return index\n",
    "\n",
    "embeddings, outdoors_data = calculate_outdoors_embeddings()\n",
    "query_embeddings = model.encode([\"Hiking trails\"], convert_to_numpy=True, normalize_embeddings=True)\n",
    "scored_full_results, target_time, target_size = \\\n",
    "    execute_full_search(embeddings, query_embeddings, outdoors_data)\n",
    "embeddings, outdoors_data = calculate_outdoors_embeddings()\n",
    "index = index_pq_reranked_embeddings(embeddings)\n",
    "scored_results, _, _ = execute_search(index, \"pq_out_embs\", query_embeddings, outdoors_data,\n",
    "                                   target_time=target_time,\n",
    "                                   target_size=target_size)\n",
    "calculate_recall(scored_full_results, scored_results)"
   ]
  },
  {
   "cell_type": "markdown",
   "metadata": {},
   "source": [
    "## Listing 13.26\n",
    "### Quantization and reranking"
   ]
  },
  {
   "cell_type": "code",
   "execution_count": 10,
   "metadata": {},
   "outputs": [
    {
     "name": "stdout",
     "output_type": "stream",
     "text": [
      "Wiping \"outdoors_quantization\" collection\n",
      "Creating \"outdoors_quantization\" collection\n",
      "Status: Success\n"
     ]
    },
    {
     "ename": "AttributeError",
     "evalue": "'list' object has no attribute 'withColumn'",
     "output_type": "error",
     "traceback": [
      "\u001b[0;31m---------------------------------------------------------------------------\u001b[0m",
      "\u001b[0;31mAttributeError\u001b[0m                            Traceback (most recent call last)",
      "Cell \u001b[0;32mIn[10], line 8\u001b[0m\n\u001b[1;32m      5\u001b[0m     outdoors_data \u001b[38;5;241m=\u001b[39m outdoors_data\u001b[38;5;241m.\u001b[39mwithColumn\n\u001b[1;32m      6\u001b[0m     embeddings_collection\u001b[38;5;241m.\u001b[39mwrite(outdoors_dataframe)\n\u001b[0;32m----> 8\u001b[0m \u001b[43mbuild_engine_quantization_index\u001b[49m\u001b[43m(\u001b[49m\u001b[43m)\u001b[49m\n\u001b[1;32m     10\u001b[0m \u001b[38;5;28;01mdef\u001b[39;00m \u001b[38;5;21mbase_search_request\u001b[39m(query_vector, field, quantization_size):\n\u001b[1;32m     11\u001b[0m     \u001b[38;5;28;01mreturn\u001b[39;00m {\u001b[38;5;124m\"\u001b[39m\u001b[38;5;124mquery\u001b[39m\u001b[38;5;124m\"\u001b[39m: query_vector,\n\u001b[1;32m     12\u001b[0m             \u001b[38;5;124m\"\u001b[39m\u001b[38;5;124mquery_fields\u001b[39m\u001b[38;5;124m\"\u001b[39m: [field],\n\u001b[1;32m     13\u001b[0m             \u001b[38;5;124m\"\u001b[39m\u001b[38;5;124mreturn_fields\u001b[39m\u001b[38;5;124m\"\u001b[39m: [\u001b[38;5;124m\"\u001b[39m\u001b[38;5;124mtitle\u001b[39m\u001b[38;5;124m\"\u001b[39m, \u001b[38;5;124m\"\u001b[39m\u001b[38;5;124mbody\u001b[39m\u001b[38;5;124m\"\u001b[39m],\n\u001b[1;32m     14\u001b[0m             \u001b[38;5;124m\"\u001b[39m\u001b[38;5;124mlimit\u001b[39m\u001b[38;5;124m\"\u001b[39m: \u001b[38;5;241m25\u001b[39m,\n\u001b[1;32m     15\u001b[0m             \u001b[38;5;124m\"\u001b[39m\u001b[38;5;124mk\u001b[39m\u001b[38;5;124m\"\u001b[39m: \u001b[38;5;241m1000\u001b[39m,\n\u001b[1;32m     16\u001b[0m             \u001b[38;5;124m\"\u001b[39m\u001b[38;5;124mquantization_size\u001b[39m\u001b[38;5;124m\"\u001b[39m: quantization_size}\n",
      "Cell \u001b[0;32mIn[10], line 5\u001b[0m, in \u001b[0;36mbuild_engine_quantization_index\u001b[0;34m()\u001b[0m\n\u001b[1;32m      3\u001b[0m \u001b[38;5;66;03m#quantized_embeddings = [quantize(e) for e in normalized_embeddings]\u001b[39;00m\n\u001b[1;32m      4\u001b[0m embeddings_collection \u001b[38;5;241m=\u001b[39m engine\u001b[38;5;241m.\u001b[39mcreate_collection(\u001b[38;5;124m\"\u001b[39m\u001b[38;5;124moutdoors_quantization\u001b[39m\u001b[38;5;124m\"\u001b[39m)\n\u001b[0;32m----> 5\u001b[0m outdoors_data \u001b[38;5;241m=\u001b[39m \u001b[43moutdoors_data\u001b[49m\u001b[38;5;241;43m.\u001b[39;49m\u001b[43mwithColumn\u001b[49m\n\u001b[1;32m      6\u001b[0m embeddings_collection\u001b[38;5;241m.\u001b[39mwrite(outdoors_dataframe)\n",
      "\u001b[0;31mAttributeError\u001b[0m: 'list' object has no attribute 'withColumn'"
     ]
    }
   ],
   "source": [
    "def build_engine_quantization_index():\n",
    "    embeddings, outdoors_data = calculate_outdoors_embeddings()\n",
    "    #quantized_embeddings = [quantize(e) for e in normalized_embeddings]\n",
    "    embeddings_collection = engine.create_collection(\"outdoors_quantization\")\n",
    "    outdoors_data = outdoors_data.withColumn\n",
    "    embeddings_collection.write(outdoors_dataframe)\n",
    "\n",
    "build_engine_quantization_index()\n",
    "\n",
    "def base_search_request(query_vector, field, quantization_size):\n",
    "    return {\"query\": query_vector,\n",
    "            \"query_fields\": [field],\n",
    "            \"return_fields\": [\"title\", \"body\"],\n",
    "            \"limit\": 25,\n",
    "            \"k\": 1000,\n",
    "            \"quantization_size\": quantization_size}\n",
    "\n",
    "def engine_rankings(query, log=False):\n",
    "    collection = engine.get_collection(\"outdoors_quantization\")\n",
    "    query_embedding = model.encode([query], convert_to_numpy=True, normalize_embeddings=True)\n",
    "    quantized_query = numpy.zeros_like(query_embedding, dtype=numpy.int8)\n",
    "    quantized_query[query_embedding > 0] = 1\n",
    "\n",
    "    binary_request = base_search_request(quantized_query.tolist(),\n",
    "                                         \"image_binary_embedding\",\n",
    "                                         \"BINARY\")"
   ]
  }
 ],
 "metadata": {
  "kernelspec": {
   "display_name": "Python 3 (ipykernel)",
   "language": "python",
   "name": "python3"
  },
  "language_info": {
   "codemirror_mode": {
    "name": "ipython",
    "version": 3
   },
   "file_extension": ".py",
   "mimetype": "text/x-python",
   "name": "python",
   "nbconvert_exporter": "python",
   "pygments_lexer": "ipython3",
   "version": "3.10.9"
  }
 },
 "nbformat": 4,
 "nbformat_minor": 2
}
